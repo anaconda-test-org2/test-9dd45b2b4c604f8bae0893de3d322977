{
 "cells": [
  {
   "cell_type": "markdown",
   "metadata": {},
   "source": [
    "# HDFS with Kerberos\n",
    "\n",
    "Configure `python-hdfs` by editing the `~/.hdfscli.cfg` config file:\n",
    "\n",
    "```\n",
    "[global]\n",
    "default.alias = dev\n",
    "autoload.modules = hdfs.ext.kerberos\n",
    "\n",
    "[dev.alias]\n",
    "url = http://namenode:port\n",
    "client = KerberosClient\n",
    "```\n",
    "\n",
    "Where port is the Namenode port, usually `50070`.\n",
    "\n",
    "After that you can start an IPython shell for HDFS commands by executing `hdfscli`.\n",
    "Remember to `kinit` before start the IPython shell.\n",
    "\n",
    "You can also create a client directly:\n",
    "\n",
    "Complete documentaion at: https://hdfscli.readthedocs.io/en/latest/api.html"
   ]
  },
  {
   "cell_type": "code",
   "execution_count": null,
   "metadata": {},
   "outputs": [],
   "source": [
    "from hdfs.ext.kerberos import KerberosClient"
   ]
  },
  {
   "cell_type": "code",
   "execution_count": null,
   "metadata": {},
   "outputs": [],
   "source": [
    "client = KerberosClient('http://<Namenode>:50070')"
   ]
  },
  {
   "cell_type": "code",
   "execution_count": null,
   "metadata": {},
   "outputs": [],
   "source": [
    "client = KerberosClient('http://ip-172-31-14-99.ec2.internal:50070')"
   ]
  },
  {
   "cell_type": "code",
   "execution_count": null,
   "metadata": {},
   "outputs": [],
   "source": [
    "client.list(\"/\")"
   ]
  },
  {
   "cell_type": "code",
   "execution_count": null,
   "metadata": {},
   "outputs": [],
   "source": []
  }
 ],
 "metadata": {
  "kernelspec": {
   "display_name": "[anaconda50_hadoop] Python 3",
   "language": "python",
   "name": "anaconda-project-anaconda50_hadoop-python3"
  },
  "language_info": {
   "codemirror_mode": {
    "name": "ipython",
    "version": 3
   },
   "file_extension": ".py",
   "mimetype": "text/x-python",
   "name": "python",
   "nbconvert_exporter": "python",
   "pygments_lexer": "ipython3",
   "version": "3.6.4"
  }
 },
 "nbformat": 4,
 "nbformat_minor": 2
}
