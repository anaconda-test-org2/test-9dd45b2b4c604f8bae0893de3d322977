{
 "cells": [
  {
   "cell_type": "markdown",
   "metadata": {},
   "source": [
    "# HDFS\n",
    "\n",
    "To get access to a CLI client configure `python-hdfs` by editing the `~/.hdfscli.cfg` config file:\n",
    "\n",
    "```\n",
    "[global]\n",
    "default.alias = dev\n",
    "\n",
    "[dev.alias]\n",
    "url = http://<Namenode>:port\n",
    "```\n",
    "\n",
    "Where port is the Namenode port, usually `50070`.\n",
    "\n",
    "After that you can start an IPython shell for HDFS commands by executing `hdfscli`.\n",
    "\n",
    "You can also create a client directly:\n",
    "\n",
    "Complete documentaion at: https://hdfscli.readthedocs.io/en/latest/api.html"
   ]
  },
  {
   "cell_type": "code",
   "execution_count": null,
   "metadata": {},
   "outputs": [],
   "source": [
    "from hdfs import InsecureClient"
   ]
  },
  {
   "cell_type": "code",
   "execution_count": null,
   "metadata": {},
   "outputs": [],
   "source": [
    "client = InsecureClient('http://<Namenode>:50070')"
   ]
  },
  {
   "cell_type": "code",
   "execution_count": null,
   "metadata": {},
   "outputs": [],
   "source": [
    "client.list(\"/\")"
   ]
  },
  {
   "cell_type": "code",
   "execution_count": null,
   "metadata": {},
   "outputs": [],
   "source": []
  }
 ],
 "metadata": {
  "kernelspec": {
   "display_name": "[anaconda50_hadoop] Python 3",
   "language": "python",
   "name": "anaconda-project-anaconda50_hadoop-python3"
  },
  "language_info": {
   "codemirror_mode": {
    "name": "ipython",
    "version": 3
   },
   "file_extension": ".py",
   "mimetype": "text/x-python",
   "name": "python",
   "nbconvert_exporter": "python",
   "pygments_lexer": "ipython3",
   "version": "3.6.4"
  }
 },
 "nbformat": 4,
 "nbformat_minor": 2
}
