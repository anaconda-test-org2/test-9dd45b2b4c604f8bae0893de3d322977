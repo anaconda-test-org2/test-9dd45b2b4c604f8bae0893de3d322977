{
 "cells": [
  {
   "cell_type": "markdown",
   "metadata": {},
   "source": [
    "# Connecting to Hive using R with Kerberos\n",
    "\n",
    "We use RJDBC library to connect to Hive\n",
    "\n",
    "Download the corresponding JDBC Hive driver for you Hive version:\n",
    "- Cloudera: https://www.cloudera.com/downloads/connectors/hive/jdbc/2-5-4.html\n",
    "\n",
    "We recommend adding this driver to the project so its always available.\n",
    "\n",
    "Go to the respective documentation to get more information on the usage of the JDBC drivers\n",
    "- Cloudera: http://www.cloudera.com/documentation/other/connectors/hive-jdbc/2-5-4/Cloudera-JDBC-Driver-for-Apache-Hive-Install-Guide-2-5-4.pdf\n",
    "\n",
    "Remember to `kinit` from a terminal session."
   ]
  },
  {
   "cell_type": "code",
   "execution_count": null,
   "metadata": {},
   "outputs": [],
   "source": [
    "library(\"RJDBC\")"
   ]
  },
  {
   "cell_type": "markdown",
   "metadata": {},
   "source": [
    "Add the path to the JDBC driver in the project"
   ]
  },
  {
   "cell_type": "code",
   "execution_count": null,
   "metadata": {},
   "outputs": [],
   "source": [
    "hive_classpath <- list.files(\"<PATH TO JDBC DRIVER>\", pattern=\"jar$\", full.names=T)"
   ]
  },
  {
   "cell_type": "code",
   "execution_count": null,
   "metadata": {},
   "outputs": [],
   "source": [
    "hive_classpath <- list.files(\"/opt/continuum/project/Cloudera_HiveJDBC_2.5.4.1006/Cloudera_HiveJDBC4_2.5.4.1006\", pattern=\"jar$\", full.names=T)"
   ]
  },
  {
   "cell_type": "markdown",
   "metadata": {},
   "source": [
    "Now we can create the JDBC driver"
   ]
  },
  {
   "cell_type": "code",
   "execution_count": null,
   "metadata": {},
   "outputs": [],
   "source": [
    "drv <- JDBC(driverClass = \"com.cloudera.hive.jdbc4.HS2Driver\", classPath = hive_classpath, identifier.quote=\"'\")"
   ]
  },
  {
   "cell_type": "markdown",
   "metadata": {},
   "source": [
    "Create a connection string to the Hive Server 2 host and use the required JDBC Kerberos arguments:"
   ]
  },
  {
   "cell_type": "code",
   "execution_count": null,
   "metadata": {},
   "outputs": [],
   "source": [
    "url <- \"jdbc:hive2://<HIVE SERVER 2 HOST>:10000/default;SSL=1;AuthMech=1;KrbRealm=<KRB REALM>;KrbHostFQDN=<KRB HOST>;KrbServiceName=hive\""
   ]
  },
  {
   "cell_type": "code",
   "execution_count": null,
   "metadata": {},
   "outputs": [],
   "source": [
    "url <- \"jdbc:hive2://ip-172-31-12-181.ec2.internal:10000/default;SSL=1;AuthMech=1;KrbRealm=ANACONDA;KrbHostFQDN=ip-172-31-12-181.ec2.internal;KrbServiceName=hive\""
   ]
  },
  {
   "cell_type": "markdown",
   "metadata": {},
   "source": [
    "Now we can create a connection"
   ]
  },
  {
   "cell_type": "code",
   "execution_count": null,
   "metadata": {},
   "outputs": [],
   "source": [
    "conn <- dbConnect(drv, url)"
   ]
  },
  {
   "cell_type": "markdown",
   "metadata": {},
   "source": [
    "Now we can start executing queries"
   ]
  },
  {
   "cell_type": "code",
   "execution_count": null,
   "metadata": {},
   "outputs": [],
   "source": [
    "dbGetQuery(conn, \"SHOW TABLES\")"
   ]
  },
  {
   "cell_type": "markdown",
   "metadata": {},
   "source": [
    "To disconnect execute:"
   ]
  },
  {
   "cell_type": "code",
   "execution_count": null,
   "metadata": {},
   "outputs": [],
   "source": [
    "dbDisconnect(conn)"
   ]
  }
 ],
 "metadata": {
  "kernelspec": {
   "display_name": "[anaconda50_hadoop] R",
   "language": "R",
   "name": "anaconda-project-anaconda50_hadoop-ir"
  },
  "language_info": {
   "codemirror_mode": "r",
   "file_extension": ".r",
   "mimetype": "text/x-r-source",
   "name": "R",
   "pygments_lexer": "r",
   "version": "3.4.2"
  }
 },
 "nbformat": 4,
 "nbformat_minor": 2
}
