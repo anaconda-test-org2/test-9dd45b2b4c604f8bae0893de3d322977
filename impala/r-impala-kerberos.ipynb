{
 "cells": [
  {
   "cell_type": "markdown",
   "metadata": {},
   "source": [
    "# Connection to Impala using R with Kerberos\n",
    "\n",
    "We use RJDBC library to connect to Impala\n",
    "\n",
    "Download the corresponding JDBC Impala driver for you Impala installation:\n",
    "- Cloudera: https://www.cloudera.com/downloads/connectors/impala/jdbc/2-5-43.html\n",
    "\n",
    "We recommend adding this driver to the project so its always available.\n",
    "\n",
    "Go to the respective documentation to get more information on the usage of the JDBC drivers\n",
    "- Cloudera: http://www.cloudera.com/documentation/other/connectors/impala-jdbc/latest/Cloudera-JDBC-Driver-for-Impala-Install-Guide.pdf\n",
    "\n",
    "Remember to `kinit` from a terminal session."
   ]
  },
  {
   "cell_type": "code",
   "execution_count": null,
   "metadata": {},
   "outputs": [],
   "source": [
    "library(implyr)\n",
    "library(RJDBC)"
   ]
  },
  {
   "cell_type": "markdown",
   "metadata": {},
   "source": [
    "Add the path to the JDBC driver in the project"
   ]
  },
  {
   "cell_type": "code",
   "execution_count": null,
   "metadata": {},
   "outputs": [],
   "source": [
    "impala_classpath <- list.files(path = \"<PATH TO JDBC DRIVER>\", pattern = \"\\\\.jar$\", full.names = TRUE)"
   ]
  },
  {
   "cell_type": "code",
   "execution_count": null,
   "metadata": {},
   "outputs": [],
   "source": [
    "impala_classpath <- list.files(path = \"/opt/continuum/project/ClouderaImpalaJDBC_2.5.43.1063/ClouderaImpalaJDBC4_2.5.43\", pattern = \"\\\\.jar$\", full.names = TRUE)"
   ]
  },
  {
   "cell_type": "code",
   "execution_count": null,
   "metadata": {},
   "outputs": [],
   "source": [
    "Now we can create the JDBC driver"
   ]
  },
  {
   "cell_type": "code",
   "execution_count": null,
   "metadata": {},
   "outputs": [],
   "source": [
    "drv <- JDBC(driverClass = \"com.cloudera.hive.jdbc4.HS2Driver\", classPath = hive_classpath, identifier.quote=\"'\")"
   ]
  },
  {
   "cell_type": "markdown",
   "metadata": {},
   "source": [
    "Create a connection string to the Hive Server 2 host and use the required JDBC Kerberos arguments:"
   ]
  },
  {
   "cell_type": "code",
   "execution_count": null,
   "metadata": {},
   "outputs": [],
   "source": [
    "url <- \"jdbc:impala://<IMPALA DAEMON HOST>:10000/default;SSL=1;AuthMech=1;KrbRealm=<KRB REALM>;KrbHostFQDN=<KRB HOST>;KrbServiceName=impala\""
   ]
  },
  {
   "cell_type": "code",
   "execution_count": null,
   "metadata": {},
   "outputs": [],
   "source": [
    "# An example\n",
    "url <- \"jdbc:impala://ip-172-31-9-242.ec2.internal:21050/default;SSL=1;AuthMech=1;KrbRealm=ANACONDA;KrbHostFQDN=ip-172-31-12-181.ec2.internal;KrbServiceName=impala\""
   ]
  },
  {
   "cell_type": "markdown",
   "metadata": {},
   "source": [
    "Now we can create a connection"
   ]
  },
  {
   "cell_type": "code",
   "execution_count": null,
   "metadata": {},
   "outputs": [],
   "source": [
    "impala <- src_impala(drv, url)"
   ]
  },
  {
   "cell_type": "markdown",
   "metadata": {},
   "source": [
    "The `impala` object is an dplyr object and we can use as all the dplyr expressions, for example list all the available tables.\n",
    "\n",
    "Look at the implyr documentation for more information: https://github.com/ianmcook/implyr#using-dplyr"
   ]
  },
  {
   "cell_type": "code",
   "execution_count": null,
   "metadata": {},
   "outputs": [],
   "source": [
    "src_tbls(impala)"
   ]
  }
 ],
 "metadata": {
  "kernelspec": {
   "display_name": "[anaconda50_hadoop] R",
   "language": "R",
   "name": "anaconda-project-anaconda50_hadoop-ir"
  },
  "language_info": {
   "codemirror_mode": "r",
   "file_extension": ".r",
   "mimetype": "text/x-r-source",
   "name": "R",
   "pygments_lexer": "r",
   "version": "3.4.2"
  }
 },
 "nbformat": 4,
 "nbformat_minor": 2
}
